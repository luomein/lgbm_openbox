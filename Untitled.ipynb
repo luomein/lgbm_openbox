{
 "cells": [
  {
   "cell_type": "code",
   "execution_count": 1,
   "id": "9d9848d0-9e08-479f-b512-7dc20a6e54f1",
   "metadata": {},
   "outputs": [],
   "source": [
    "import lgbm_helper"
   ]
  },
  {
   "cell_type": "code",
   "execution_count": 2,
   "id": "4e91fc9c-5649-4917-b5c6-950954dfdb13",
   "metadata": {},
   "outputs": [],
   "source": [
    "#in_file = open(\"in-file\", \"rb\") # opening for [r]eading as [b]inary\n",
    "#data = in_file.read() # if you only wanted to read 512 bytes, do .read(512)\n",
    "#in_file.close()\n",
    "\n",
    "with open(\"/Users/meiyinlo/Downloads/mode-2.txt\", \"rb\") as f:\n",
    "    model = lgbm_helper.get_model(f)"
   ]
  },
  {
   "cell_type": "code",
   "execution_count": 3,
   "id": "757b3186-a738-4d56-847b-4bf466c7a572",
   "metadata": {},
   "outputs": [
    {
     "data": {
      "text/html": [
       "<div>\n",
       "<style scoped>\n",
       "    .dataframe tbody tr th:only-of-type {\n",
       "        vertical-align: middle;\n",
       "    }\n",
       "\n",
       "    .dataframe tbody tr th {\n",
       "        vertical-align: top;\n",
       "    }\n",
       "\n",
       "    .dataframe thead th {\n",
       "        text-align: right;\n",
       "    }\n",
       "</style>\n",
       "<table border=\"1\" class=\"dataframe\">\n",
       "  <thead>\n",
       "    <tr style=\"text-align: right;\">\n",
       "      <th></th>\n",
       "      <th>Feature</th>\n",
       "      <th>Importance</th>\n",
       "      <th>Min Value</th>\n",
       "      <th>Max Value</th>\n",
       "    </tr>\n",
       "  </thead>\n",
       "  <tbody>\n",
       "    <tr>\n",
       "      <th>0</th>\n",
       "      <td>self_test_log_list_14_2_max</td>\n",
       "      <td>164</td>\n",
       "      <td>0</td>\n",
       "      <td>21</td>\n",
       "    </tr>\n",
       "    <tr>\n",
       "      <th>1</th>\n",
       "      <td>self_test_log_list_15_2_max</td>\n",
       "      <td>101</td>\n",
       "      <td>0</td>\n",
       "      <td>19</td>\n",
       "    </tr>\n",
       "    <tr>\n",
       "      <th>2</th>\n",
       "      <td>interface_crc_error_count_16_1_max</td>\n",
       "      <td>3</td>\n",
       "      <td>0</td>\n",
       "      <td>366</td>\n",
       "    </tr>\n",
       "    <tr>\n",
       "      <th>3</th>\n",
       "      <td>uncorrectable_error_count_16_2_max</td>\n",
       "      <td>41</td>\n",
       "      <td>0</td>\n",
       "      <td>170929</td>\n",
       "    </tr>\n",
       "    <tr>\n",
       "      <th>4</th>\n",
       "      <td>id_not_found_count_16_3_max</td>\n",
       "      <td>8</td>\n",
       "      <td>0</td>\n",
       "      <td>332522</td>\n",
       "    </tr>\n",
       "    <tr>\n",
       "      <th>...</th>\n",
       "      <td>...</td>\n",
       "      <td>...</td>\n",
       "      <td>...</td>\n",
       "      <td>...</td>\n",
       "    </tr>\n",
       "    <tr>\n",
       "      <th>175</th>\n",
       "      <td>read_recovery_attempts_6_5_diff</td>\n",
       "      <td>197</td>\n",
       "      <td>0</td>\n",
       "      <td>267064207</td>\n",
       "    </tr>\n",
       "    <tr>\n",
       "      <th>176</th>\n",
       "      <td>number_of_high_priority_unload_events_6_8_diff</td>\n",
       "      <td>161</td>\n",
       "      <td>0</td>\n",
       "      <td>77866</td>\n",
       "    </tr>\n",
       "    <tr>\n",
       "      <th>177</th>\n",
       "      <td>number_of_resets_between_command_acceptance_an...</td>\n",
       "      <td>127</td>\n",
       "      <td>0</td>\n",
       "      <td>427956610</td>\n",
       "    </tr>\n",
       "    <tr>\n",
       "      <th>178</th>\n",
       "      <td>hardware_resets_9_1_diff</td>\n",
       "      <td>450</td>\n",
       "      <td>0</td>\n",
       "      <td>423639</td>\n",
       "    </tr>\n",
       "    <tr>\n",
       "      <th>179</th>\n",
       "      <td>asr_events_9_2_diff</td>\n",
       "      <td>275</td>\n",
       "      <td>0</td>\n",
       "      <td>122411912</td>\n",
       "    </tr>\n",
       "  </tbody>\n",
       "</table>\n",
       "<p>180 rows × 4 columns</p>\n",
       "</div>"
      ],
      "text/plain": [
       "                                               Feature  Importance  Min Value  \\\n",
       "0                          self_test_log_list_14_2_max         164          0   \n",
       "1                          self_test_log_list_15_2_max         101          0   \n",
       "2                   interface_crc_error_count_16_1_max           3          0   \n",
       "3                   uncorrectable_error_count_16_2_max          41          0   \n",
       "4                          id_not_found_count_16_3_max           8          0   \n",
       "..                                                 ...         ...        ...   \n",
       "175                    read_recovery_attempts_6_5_diff         197          0   \n",
       "176     number_of_high_priority_unload_events_6_8_diff         161          0   \n",
       "177  number_of_resets_between_command_acceptance_an...         127          0   \n",
       "178                           hardware_resets_9_1_diff         450          0   \n",
       "179                                asr_events_9_2_diff         275          0   \n",
       "\n",
       "     Max Value  \n",
       "0           21  \n",
       "1           19  \n",
       "2          366  \n",
       "3       170929  \n",
       "4       332522  \n",
       "..         ...  \n",
       "175  267064207  \n",
       "176      77866  \n",
       "177  427956610  \n",
       "178     423639  \n",
       "179  122411912  \n",
       "\n",
       "[180 rows x 4 columns]"
      ]
     },
     "execution_count": 3,
     "metadata": {},
     "output_type": "execute_result"
    }
   ],
   "source": [
    "lgbm_helper.get_feature_summary_df(model)"
   ]
  },
  {
   "cell_type": "code",
   "execution_count": 5,
   "id": "6524a446-f4de-4a40-9728-7e48025795d8",
   "metadata": {},
   "outputs": [],
   "source": [
    "bst =  lgbm_helper.get_booster(model)\n",
    "model_details = bst.dump_model()\n"
   ]
  },
  {
   "cell_type": "code",
   "execution_count": 7,
   "id": "14356f49-cb27-409f-9c6c-522d073df87c",
   "metadata": {},
   "outputs": [
    {
     "data": {
      "text/plain": [
       "['__class__',\n",
       " '__class_getitem__',\n",
       " '__contains__',\n",
       " '__delattr__',\n",
       " '__delitem__',\n",
       " '__dir__',\n",
       " '__doc__',\n",
       " '__eq__',\n",
       " '__format__',\n",
       " '__ge__',\n",
       " '__getattribute__',\n",
       " '__getitem__',\n",
       " '__gt__',\n",
       " '__hash__',\n",
       " '__init__',\n",
       " '__init_subclass__',\n",
       " '__ior__',\n",
       " '__iter__',\n",
       " '__le__',\n",
       " '__len__',\n",
       " '__lt__',\n",
       " '__ne__',\n",
       " '__new__',\n",
       " '__or__',\n",
       " '__reduce__',\n",
       " '__reduce_ex__',\n",
       " '__repr__',\n",
       " '__reversed__',\n",
       " '__ror__',\n",
       " '__setattr__',\n",
       " '__setitem__',\n",
       " '__sizeof__',\n",
       " '__str__',\n",
       " '__subclasshook__',\n",
       " 'clear',\n",
       " 'copy',\n",
       " 'fromkeys',\n",
       " 'get',\n",
       " 'items',\n",
       " 'keys',\n",
       " 'pop',\n",
       " 'popitem',\n",
       " 'setdefault',\n",
       " 'update',\n",
       " 'values']"
      ]
     },
     "execution_count": 7,
     "metadata": {},
     "output_type": "execute_result"
    }
   ],
   "source": [
    "dir(model_details)"
   ]
  },
  {
   "cell_type": "code",
   "execution_count": 11,
   "id": "31f0a517-e96e-4312-b0c6-adaf790241c8",
   "metadata": {},
   "outputs": [
    {
     "data": {
      "text/plain": [
       "['name',\n",
       " 'version',\n",
       " 'num_class',\n",
       " 'num_tree_per_iteration',\n",
       " 'label_index',\n",
       " 'max_feature_idx',\n",
       " 'objective',\n",
       " 'average_output',\n",
       " 'feature_names',\n",
       " 'monotone_constraints',\n",
       " 'feature_infos',\n",
       " 'tree_info',\n",
       " 'feature_importances',\n",
       " 'pandas_categorical']"
      ]
     },
     "execution_count": 11,
     "metadata": {},
     "output_type": "execute_result"
    }
   ],
   "source": [
    "list(model_details.keys())"
   ]
  },
  {
   "cell_type": "code",
   "execution_count": 19,
   "id": "4b1d94c1-f09c-4944-8c43-7da7e8795a0f",
   "metadata": {},
   "outputs": [],
   "source": [
    "model_configuration = dict()\n",
    "for k in model_details.keys():\n",
    "    if not k in ['tree_info' , 'feature_names' , 'feature_importances' , 'feature_infos'] :\n",
    "      #print(k , model_details[k])\n",
    "        model_configuration[k] = model_details[k]"
   ]
  },
  {
   "cell_type": "code",
   "execution_count": 22,
   "id": "cef80390-f435-450a-929d-0909a3db561b",
   "metadata": {},
   "outputs": [
    {
     "data": {
      "text/plain": [
       "{'name': 'tree',\n",
       " 'version': 'v4',\n",
       " 'num_class': 1,\n",
       " 'num_tree_per_iteration': 1,\n",
       " 'label_index': 0,\n",
       " 'max_feature_idx': 179,\n",
       " 'objective': 'regression',\n",
       " 'average_output': False,\n",
       " 'monotone_constraints': [],\n",
       " 'pandas_categorical': None}"
      ]
     },
     "execution_count": 22,
     "metadata": {},
     "output_type": "execute_result"
    }
   ],
   "source": [
    "model_configuration"
   ]
  },
  {
   "cell_type": "code",
   "execution_count": 26,
   "id": "54991cdf-6b97-4856-99a5-d0d5d795b1aa",
   "metadata": {},
   "outputs": [
    {
     "data": {
      "text/html": [
       "<div>\n",
       "<style scoped>\n",
       "    .dataframe tbody tr th:only-of-type {\n",
       "        vertical-align: middle;\n",
       "    }\n",
       "\n",
       "    .dataframe tbody tr th {\n",
       "        vertical-align: top;\n",
       "    }\n",
       "\n",
       "    .dataframe thead th {\n",
       "        text-align: right;\n",
       "    }\n",
       "</style>\n",
       "<table border=\"1\" class=\"dataframe\">\n",
       "  <thead>\n",
       "    <tr style=\"text-align: right;\">\n",
       "      <th></th>\n",
       "      <th>key</th>\n",
       "      <th>value</th>\n",
       "    </tr>\n",
       "  </thead>\n",
       "  <tbody>\n",
       "    <tr>\n",
       "      <th>0</th>\n",
       "      <td>name</td>\n",
       "      <td>tree</td>\n",
       "    </tr>\n",
       "    <tr>\n",
       "      <th>1</th>\n",
       "      <td>version</td>\n",
       "      <td>v4</td>\n",
       "    </tr>\n",
       "    <tr>\n",
       "      <th>2</th>\n",
       "      <td>num_class</td>\n",
       "      <td>1</td>\n",
       "    </tr>\n",
       "    <tr>\n",
       "      <th>3</th>\n",
       "      <td>num_tree_per_iteration</td>\n",
       "      <td>1</td>\n",
       "    </tr>\n",
       "    <tr>\n",
       "      <th>4</th>\n",
       "      <td>label_index</td>\n",
       "      <td>0</td>\n",
       "    </tr>\n",
       "    <tr>\n",
       "      <th>5</th>\n",
       "      <td>max_feature_idx</td>\n",
       "      <td>179</td>\n",
       "    </tr>\n",
       "    <tr>\n",
       "      <th>6</th>\n",
       "      <td>objective</td>\n",
       "      <td>regression</td>\n",
       "    </tr>\n",
       "    <tr>\n",
       "      <th>7</th>\n",
       "      <td>average_output</td>\n",
       "      <td>False</td>\n",
       "    </tr>\n",
       "    <tr>\n",
       "      <th>8</th>\n",
       "      <td>monotone_constraints</td>\n",
       "      <td>[]</td>\n",
       "    </tr>\n",
       "    <tr>\n",
       "      <th>9</th>\n",
       "      <td>pandas_categorical</td>\n",
       "      <td>None</td>\n",
       "    </tr>\n",
       "  </tbody>\n",
       "</table>\n",
       "</div>"
      ],
      "text/plain": [
       "                      key       value\n",
       "0                    name        tree\n",
       "1                 version          v4\n",
       "2               num_class           1\n",
       "3  num_tree_per_iteration           1\n",
       "4             label_index           0\n",
       "5         max_feature_idx         179\n",
       "6               objective  regression\n",
       "7          average_output       False\n",
       "8    monotone_constraints          []\n",
       "9      pandas_categorical        None"
      ]
     },
     "execution_count": 26,
     "metadata": {},
     "output_type": "execute_result"
    }
   ],
   "source": [
    "import pandas as pd\n",
    "pd.DataFrame([ model_configuration ]).T.reset_index(drop=False).set_axis(['key','value'], axis=1)"
   ]
  },
  {
   "cell_type": "code",
   "execution_count": 15,
   "id": "6a0cf2db-527e-41d3-8f10-ab018e2b67cf",
   "metadata": {},
   "outputs": [
    {
     "name": "stdout",
     "output_type": "stream",
     "text": [
      "name tree\n",
      "version v4\n",
      "num_class 1\n",
      "num_tree_per_iteration 1\n",
      "label_index 0\n",
      "max_feature_idx 179\n",
      "objective regression\n",
      "average_output False\n",
      "monotone_constraints []\n",
      "pandas_categorical None\n"
     ]
    }
   ],
   "source": [
    "for k in model_details.keys():\n",
    "    if not k in ['tree_info' , 'feature_names' , 'feature_importances' , 'feature_infos'] :\n",
    "      print(k , model_details[k])"
   ]
  },
  {
   "cell_type": "code",
   "execution_count": 16,
   "id": "a47f05de-6cc6-45c8-9513-f5d2fb0f28d0",
   "metadata": {},
   "outputs": [],
   "source": [
    "tree_sizes = [len(tree['tree_structure']) for tree in model_details['tree_info']]\n"
   ]
  },
  {
   "cell_type": "code",
   "execution_count": 18,
   "id": "e3afff7c-2ce3-4f7b-b0eb-ae0df9e0a81a",
   "metadata": {},
   "outputs": [
    {
     "data": {
      "text/plain": [
       "180"
      ]
     },
     "execution_count": 18,
     "metadata": {},
     "output_type": "execute_result"
    }
   ],
   "source": [
    "len(model_details['feature_names'])"
   ]
  },
  {
   "cell_type": "code",
   "execution_count": null,
   "id": "85d24ded-fecc-42b1-8c5f-1c994d4d2225",
   "metadata": {},
   "outputs": [],
   "source": []
  }
 ],
 "metadata": {
  "kernelspec": {
   "display_name": "Python 3 (ipykernel)",
   "language": "python",
   "name": "python3"
  },
  "language_info": {
   "codemirror_mode": {
    "name": "ipython",
    "version": 3
   },
   "file_extension": ".py",
   "mimetype": "text/x-python",
   "name": "python",
   "nbconvert_exporter": "python",
   "pygments_lexer": "ipython3",
   "version": "3.9.1"
  }
 },
 "nbformat": 4,
 "nbformat_minor": 5
}
